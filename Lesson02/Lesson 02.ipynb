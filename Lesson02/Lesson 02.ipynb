{
 "cells": [
  {
   "cell_type": "code",
   "execution_count": 6,
   "metadata": {
    "collapsed": true
   },
   "outputs": [],
   "source": [
    "import cv2\n",
    "import numpy as np"
   ]
  },
  {
   "cell_type": "markdown",
   "metadata": {},
   "source": [
    "## Review section"
   ]
  },
  {
   "cell_type": "code",
   "execution_count": 46,
   "metadata": {
    "collapsed": true
   },
   "outputs": [],
   "source": [
    "img = cv2.imread('lena.jpg')\n",
    "cv2.imshow('lenna', img)\n",
    "key = cv2.waitKey()\n",
    "if key == 27:\n",
    "    cv2.destroyAllWindows()"
   ]
  },
  {
   "cell_type": "code",
   "execution_count": 5,
   "metadata": {
    "collapsed": true
   },
   "outputs": [],
   "source": [
    "# Gaussian Kernel Effect\n",
    "# GaussianBlur(img,kernelsize,variance)\n",
    "# 第二个参数应该是高斯核的大小，size.width and size.height\n",
    "g_img = cv2.GaussianBlur(img,(7,7),5)\n",
    "cv2.imshow('gaussian_blur_lenna', g_img)\n",
    "key = cv2.waitKey()\n",
    "if key == 27:\n",
    "    cv2.destroyAllWindows()"
   ]
  },
  {
   "cell_type": "code",
   "execution_count": 4,
   "metadata": {
    "collapsed": true
   },
   "outputs": [],
   "source": [
    "# 图像变更模糊，因为范围更大，平均效果更明显\n",
    "g_img = cv2.GaussianBlur(img,(17,17),5)\n",
    "cv2.imshow('gaussian_blur_lenna', g_img)\n",
    "key = cv2.waitKey()\n",
    "if key == 27:\n",
    "    cv2.destroyAllWindows()"
   ]
  },
  {
   "cell_type": "code",
   "execution_count": 6,
   "metadata": {
    "collapsed": true
   },
   "outputs": [],
   "source": [
    "# 图像更清晰，因为方差更小，高斯图像更尖锐，中心点起的作用更大\n",
    "g_img = cv2.GaussianBlur(img,(7,7),1)\n",
    "cv2.imshow('gaussian_blur_lenna', g_img)\n",
    "key = cv2.waitKey()\n",
    "if key == 27:\n",
    "    cv2.destroyAllWindows()"
   ]
  },
  {
   "cell_type": "code",
   "execution_count": 13,
   "metadata": {},
   "outputs": [
    {
     "name": "stdout",
     "output_type": "stream",
     "text": [
      "[[ 0.12895603]\n",
      " [ 0.14251846]\n",
      " [ 0.15133131]\n",
      " [ 0.1543884 ]\n",
      " [ 0.15133131]\n",
      " [ 0.14251846]\n",
      " [ 0.12895603]]\n"
     ]
    }
   ],
   "source": [
    "# 来看看高斯核\n",
    "kernel = cv2.getGaussianKernel(7, 5)\n",
    "print(kernel)"
   ]
  },
  {
   "cell_type": "code",
   "execution_count": 15,
   "metadata": {
    "collapsed": true
   },
   "outputs": [],
   "source": [
    "# 为啥一维，因为一维运算快\n",
    "# 理论解释\n",
    "# 用显式地代码看隐式地高斯和显示地分步高斯地效果\n",
    "g1_img = cv2.GaussianBlur(img,(7,7),5)\n",
    "g2_img = cv2.sepFilter2D(img, -1, kernel, kernel) \n",
    "# ori, depth, kernelX, kernelY\n",
    "cv2.imshow('g1_blur_lenna', g1_img)\n",
    "cv2.imshow('g2_blur_lenna', g2_img)\n",
    "key = cv2.waitKey()\n",
    "if key == 27:\n",
    "    cv2.destroyAllWindows()"
   ]
  },
  {
   "cell_type": "code",
   "execution_count": 16,
   "metadata": {
    "collapsed": true
   },
   "outputs": [],
   "source": [
    "######## Other Applications #########\n",
    "# 2nd derivative: laplacian （双边缘效果）\n",
    "kernel_lap = np.array([[0, 1, 0], [1, -4, 1], [0, 1, 0]], np.float32)\n",
    "lap_img = cv2.filter2D(img, -1, kernel=kernel_lap)\n",
    "cv2.imshow('lap_lenna', lap_img)\n",
    "key = cv2.waitKey()\n",
    "if key == 27:\n",
    "    cv2.destroyAllWindows()"
   ]
  },
  {
   "cell_type": "code",
   "execution_count": 17,
   "metadata": {
    "collapsed": true
   },
   "outputs": [],
   "source": [
    "# 应用： 图像锐化 = edge+ori\n",
    "# app: sharpen\n",
    "# 图像+edge=更锐利地图像，因为突出边缘\n",
    "kernel_sharp = np.array([[0, 1, 0], [1, -3, 1], [0, 1, 0]], np.float32) \n",
    "lap_img = cv2.filter2D(img, -1, kernel=kernel_sharp)\n",
    "cv2.imshow('sharp_lenna', lap_img)\n",
    "key = cv2.waitKey()\n",
    "if key == 27:\n",
    "    cv2.destroyAllWindows()"
   ]
  },
  {
   "cell_type": "code",
   "execution_count": 18,
   "metadata": {
    "collapsed": true
   },
   "outputs": [],
   "source": [
    "# 这样不对，因为，周围有4个1，中间是-3，\n",
    "# 虽然有边缘效果，但是周围得1会使得原kernel有滤波效果，使图像模糊；\n",
    "# 解决：所以取kernel_lap得相反数，再加上原图像，这样突出了中心像素，\n",
    "#      效果类似于小方差的高斯，所以\n",
    "#      可以既有边缘效果，又保留图像清晰度\n",
    "kernel_sharp = np.array([[0, -1, 0], [-1, 5, -1], [0, -1, 0]], np.float32) \n",
    "lap_img = cv2.filter2D(img, -1, kernel=kernel_sharp)\n",
    "cv2.imshow('sharp_lenna', lap_img)\n",
    "key = cv2.waitKey()\n",
    "if key == 27:\n",
    "    cv2.destroyAllWindows()"
   ]
  },
  {
   "cell_type": "code",
   "execution_count": 19,
   "metadata": {
    "collapsed": true
   },
   "outputs": [],
   "source": [
    "# 更“凶猛”的边缘效果\n",
    "# 不仅考虑x-y方向上的梯度，同时考虑了对角线方向上的梯度\n",
    "kernel_sharp = np.array([[1, 1, 1], [1, -8, 1], [1, 1, 1]], np.float32) "
   ]
  },
  {
   "cell_type": "code",
   "execution_count": 20,
   "metadata": {
    "collapsed": true
   },
   "outputs": [],
   "source": [
    "######## Edge #########\n",
    "# x轴\n",
    "edgex = np.array([[-1, -2, -1], [0, 0, 0], [1, 2, 1]], np.float32)\n",
    "sharp_img = cv2.filter2D(img, -1, kernel=edgex)\n",
    "cv2.imshow('edgex_lenna', sharp_img)\n",
    "key = cv2.waitKey()\n",
    "if key == 27:\n",
    "    cv2.destroyAllWindows()"
   ]
  },
  {
   "cell_type": "code",
   "execution_count": 21,
   "metadata": {
    "collapsed": true
   },
   "outputs": [],
   "source": [
    "# y轴\n",
    "edgey = np.array([[-1, 0, -1], [-2, 0, 2], [-1, 0, 1]], np.float32)\n",
    "sharpy_img = cv2.filter2D(img, -1, kernel=edgey)\n",
    "cv2.imshow('edgex_lenna', sharp_img)\n",
    "cv2.imshow('edgey_lenna', sharpy_img)\n",
    "key = cv2.waitKey()\n",
    "if key == 27:\n",
    "    cv2.destroyAllWindows()"
   ]
  },
  {
   "cell_type": "code",
   "execution_count": 23,
   "metadata": {},
   "outputs": [
    {
     "name": "stdout",
     "output_type": "stream",
     "text": [
      "[[ 169.  169.  169. ...,  180.  178.  178.]\n",
      " [ 169.  169.  169. ...,  181.  179.  179.]\n",
      " [ 168.  168.  169. ...,  182.  182.  182.]\n",
      " ..., \n",
      " [  25.   25.   28. ...,   92.   93.   93.]\n",
      " [  24.   24.   27. ...,   97.   98.   98.]\n",
      " [  24.   24.   27. ...,   98.   99.   99.]]\n"
     ]
    }
   ],
   "source": [
    "######### 角点 ###########\n",
    "img = cv2.imread('lena.jpg')\n",
    "img = cv2.resize(img, (640, 480))\n",
    "img_gray = np.float32(cv2.cvtColor(img, cv2.COLOR_BGR2GRAY))\n",
    "print(img_gray)"
   ]
  },
  {
   "cell_type": "code",
   "execution_count": 24,
   "metadata": {},
   "outputs": [
    {
     "name": "stdout",
     "output_type": "stream",
     "text": [
      "[[ -4.34570294e-03  -4.34570294e-03   5.39062507e-02 ...,   9.85547066e-01\n",
      "    1.94208488e+01   5.59296894e+00]\n",
      " [ -4.34570294e-03  -4.34570294e-03   5.39062507e-02 ...,   9.85547066e-01\n",
      "    1.94208488e+01   5.59296894e+00]\n",
      " [  4.29687500e-02   4.29687500e-02   1.37500003e-01 ...,   1.10058107e+01\n",
      "    2.41101074e+01  -2.74851570e+01]\n",
      " ..., \n",
      " [  8.64448166e+00   8.64448166e+00  -1.51742668e+01 ...,  -1.04081335e+03\n",
      "   -9.79503357e+02  -8.92338318e+02]\n",
      " [  3.73749995e+00   3.73749995e+00  -2.24179688e+01 ...,  -2.43200012e+02\n",
      "   -2.22512497e+02  -2.16612503e+02]\n",
      " [  4.37500000e-01   4.37500000e-01  -3.37719231e+01 ...,   1.17999992e+01\n",
      "    3.73749924e+00  -1.03625011e+01]]\n"
     ]
    }
   ],
   "source": [
    "img_harris = cv2.cornerHarris(img_gray, 2, 3, 0.05)    # 2： blockSize: window size; 3: Sobel kernel size\n",
    "cv2.imshow('img_harris ', img_harris)\n",
    "key = cv2.waitKey()\n",
    "if key == 27:\n",
    "    cv2.destroyAllWindows()\n",
    "# 没法看原因：1. float类型； 2. img_harris本质上是每个pixel对于Harris函数的响应值\n",
    "# 没有看的价值\n",
    "print(img_harris)"
   ]
  },
  {
   "cell_type": "code",
   "execution_count": 28,
   "metadata": {
    "collapsed": true
   },
   "outputs": [],
   "source": [
    "# 为了显示清楚\n",
    "# img_harris = cv2.dilate(img_harris , None)"
   ]
  },
  {
   "cell_type": "code",
   "execution_count": 27,
   "metadata": {
    "collapsed": true
   },
   "outputs": [],
   "source": [
    "thres = 0.05 * np.max(img_harris)\n",
    "img[img_harris > thres] = [0, 0, 255]\n",
    "cv2.imshow('img_harris ', img)\n",
    "key = cv2.waitKey()\n",
    "if key == 27:\n",
    "    cv2.destroyAllWindows()"
   ]
  },
  {
   "cell_type": "code",
   "execution_count": 13,
   "metadata": {
    "collapsed": true
   },
   "outputs": [],
   "source": [
    "########### SIFT ###########\n",
    "# img = cv2.imread('Week1/Cat.jpg')\n",
    "img = cv2.imread('test001.jpg')\n",
    "# create sift class\n",
    "# one important thing for this function, we should use 3.4 version because the greater verison cann't support this function\n",
    "# pip unstall python-opencv==3.3.0.10\n",
    "# pip install python-contrib-opencv=3.3.0.10\n",
    "# Older verison is better for opencv maybe\n",
    "sift = cv2.xfeatures2d.SIFT_create()\n",
    "# detect SIFT\n",
    "kp = sift.detect(img,None)   # None for mask\n",
    "# compute SIFT descriptor\n",
    "kp,des = sift.compute(img,kp)\n",
    "# print(des.shape)\n",
    "img_sift= cv2.drawKeypoints(img,kp,outImage=np.array([]), flags=cv2.DRAW_MATCHES_FLAGS_DRAW_RICH_KEYPOINTS)\n",
    "cv2.imshow('lenna_sift.jpg', img_sift)\n",
    "key = cv2.waitKey()\n",
    "if key == 27:\n",
    "    cv2.destroyAllWindows()"
   ]
  },
  {
   "cell_type": "markdown",
   "metadata": {},
   "source": [
    "# Practice Time"
   ]
  },
  {
   "cell_type": "code",
   "execution_count": 1,
   "metadata": {
    "collapsed": true
   },
   "outputs": [],
   "source": [
    "# [Coding]:\n",
    "# Finish 2D convolution/filtering by your self. 二维卷积/滤波\n",
    "#   What you are supposed to do can be described as \"median blur\"（中间模糊）, which means by using a sliding window \n",
    "# on an image, your task is not going to do a normal convolution, but to find the median value within \n",
    "# that crop.（在sliding window中找出中间值）\n",
    "#   You can assume your input has only one channel. (a.k.a a normal 2D list/vector)\n",
    "#   And you do need to consider the padding method and size. There are 2 padding ways: REPLICA & ZERO. When \n",
    "# \"REPLICA\" is given to you, the padded pixels are same with the border pixels. E.g is [1 2 3] is your\n",
    "# image, the padded version will be [(...1 1) 1 2 3 (3 3...)] where how many 1 & 3 in the parenthesis \n",
    "# depends on your padding size. When \"ZERO\", the padded version will be [(...0 0) 1 2 3 (0 0...)] \n",
    "#\n",
    "#   Assume your input's size of the image is W * H, kernel size's m * n. You may first complete a version \n",
    "# with O(W·H·m·n log(m·n)) to O(W·H·m·n·m·n)).\n",
    "#  Follow up 1: Can it be completed in a shorter time complexity?\n",
    "#\n",
    "#    Python version:\n",
    "#    def medianBlur(img, kernel, padding_way):\n",
    "#        img & kernel is List of List; padding_way a string\n",
    "#        Please finish your code under this blank\n",
    "#\n",
    "#"
   ]
  },
  {
   "cell_type": "markdown",
   "metadata": {},
   "source": [
    "## Testing section"
   ]
  },
  {
   "cell_type": "code",
   "execution_count": 3,
   "metadata": {
    "collapsed": true
   },
   "outputs": [],
   "source": [
    "import numpy as np\n",
    "import copy\n",
    "import cv2\n",
    "from matplotlib import pyplot as plt\n",
    "%matplotlib inline"
   ]
  },
  {
   "cell_type": "code",
   "execution_count": 36,
   "metadata": {},
   "outputs": [
    {
     "name": "stdout",
     "output_type": "stream",
     "text": [
      "1d - a: [0 1 2 3 4 5 6 7 8]\n",
      "2d - a:\n",
      "[[0 1 2]\n",
      " [3 4 5]\n",
      " [6 7 8]]\n"
     ]
    },
    {
     "data": {
      "text/plain": [
       "array([[0, 0, 1, 2, 2],\n",
       "       [0, 0, 1, 2, 2],\n",
       "       [3, 3, 4, 5, 5],\n",
       "       [6, 6, 7, 8, 8],\n",
       "       [6, 6, 7, 8, 8]])"
      ]
     },
     "execution_count": 36,
     "metadata": {},
     "output_type": "execute_result"
    }
   ],
   "source": [
    "# np.pad(array, padding_number, mode)\n",
    "# numpy 自带的padding函数，可以为array自动填充边缘按照指定规则\n",
    "# array 数组，可以是多维数组\n",
    "# padding_number 填充的边缘数\n",
    "# mode 默认是constant( constant 代表填充0，edge代表重复边缘)\n",
    "a = np.arange(9)\n",
    "print('1d - a:', a)\n",
    "a = a.reshape((3,3))\n",
    "print('2d - a:')\n",
    "print(a)\n",
    "np.pad(a,1,'edge')  "
   ]
  },
  {
   "cell_type": "code",
   "execution_count": 37,
   "metadata": {},
   "outputs": [
    {
     "data": {
      "text/plain": [
       "array([[0, 0, 0, 0, 0],\n",
       "       [0, 0, 1, 2, 0],\n",
       "       [0, 3, 4, 5, 0],\n",
       "       [0, 6, 7, 8, 0],\n",
       "       [0, 0, 0, 0, 0]])"
      ]
     },
     "execution_count": 37,
     "metadata": {},
     "output_type": "execute_result"
    }
   ],
   "source": [
    "np.pad(a,1,'constant')"
   ]
  },
  {
   "cell_type": "code",
   "execution_count": 54,
   "metadata": {},
   "outputs": [
    {
     "data": {
      "text/plain": [
       "array([[0, 0, 0, 0, 0, 0, 0, 0, 0],\n",
       "       [0, 0, 0, 0, 0, 0, 0, 0, 0],\n",
       "       [0, 0, 0, 0, 0, 0, 0, 0, 0],\n",
       "       [0, 0, 0, 0, 1, 2, 0, 0, 0],\n",
       "       [0, 0, 0, 3, 4, 5, 0, 0, 0],\n",
       "       [0, 0, 0, 6, 7, 8, 0, 0, 0],\n",
       "       [0, 0, 0, 0, 0, 0, 0, 0, 0],\n",
       "       [0, 0, 0, 0, 0, 0, 0, 0, 0],\n",
       "       [0, 0, 0, 0, 0, 0, 0, 0, 0]])"
      ]
     },
     "execution_count": 54,
     "metadata": {},
     "output_type": "execute_result"
    }
   ],
   "source": [
    "np.pad(a,3,'constant')"
   ]
  },
  {
   "cell_type": "code",
   "execution_count": 45,
   "metadata": {},
   "outputs": [
    {
     "name": "stdout",
     "output_type": "stream",
     "text": [
      "(3, 3)\n"
     ]
    }
   ],
   "source": [
    "# Calculate the connection between padding number and kernel size \n",
    "# Shape of original image is w,h \n",
    "# if kernel shape is 3 * 3, padding is 1, output array is w,h\n",
    "# if kernel shape is 3 * 3, padding is 2, output array is w+2,h+2\n",
    "# if kernel shape is 3 * 3, padding is 3, output array is w+4,h+4\n",
    "# if kernel shape is 5 * 5, padding is 1, output array is w-2,h-2\n",
    "# if kernel shape is 5 * 5, padding is 2, output array is w,h\n",
    "# 2*padding + 1 - kernel.shape\n",
    "# so output array shape is w + kernel.w/2 - 1 + padding, h + kernel.h/2 - 1 + padding\n",
    "kernel = np.arange(9)\n",
    "kernel = kernel.reshape((3,3))\n",
    "print(kernel.shape)"
   ]
  },
  {
   "cell_type": "code",
   "execution_count": 39,
   "metadata": {},
   "outputs": [
    {
     "name": "stdout",
     "output_type": "stream",
     "text": [
      "[[169 171 173 ..., 168 186 178]\n",
      " [168 170 171 ..., 163 179 186]\n",
      " [166 167 168 ..., 127 103  99]\n",
      " ..., \n",
      " [ 31  37  27 ...,  49  62  66]\n",
      " [ 26  36  24 ...,  63  84  88]\n",
      " [ 24  36  24 ...,  71  96  99]]\n"
     ]
    }
   ],
   "source": [
    "# Testing Code(对test_img进行中值滤波)\n",
    "test_img = np.arange(25)\n",
    "test_img = test_img.reshape((5,5))\n",
    "test_img = cv2.imread('lena.jpg',0) \n",
    "print(test_img)"
   ]
  },
  {
   "cell_type": "code",
   "execution_count": 40,
   "metadata": {},
   "outputs": [
    {
     "name": "stdout",
     "output_type": "stream",
     "text": [
      "[[  0   0   0 ...,   0   0   0]\n",
      " [  0 169 171 ..., 186 178   0]\n",
      " [  0 168 170 ..., 179 186   0]\n",
      " ..., \n",
      " [  0  26  36 ...,  84  88   0]\n",
      " [  0  24  36 ...,  96  99   0]\n",
      " [  0   0   0 ...,   0   0   0]]\n",
      "[[169 171 173]\n",
      " [168 170 171]\n",
      " [166 167 168]]\n",
      "169.0\n"
     ]
    }
   ],
   "source": [
    "padding_img = np.pad(test_img,1,'constant')\n",
    "print(padding_img)\n",
    "np.median(padding_img[0:0+3,0:0+3])\n",
    "print(padding_img[1:1+3,1:1+3])\n",
    "print(np.median(padding_img[1:1+3,1:1+3]))\n",
    "result_list= [item for sublist in padding_img[0:0+3,0:0+3] for item in sublist]"
   ]
  },
  {
   "cell_type": "code",
   "execution_count": 41,
   "metadata": {},
   "outputs": [
    {
     "name": "stdout",
     "output_type": "stream",
     "text": [
      "h, w: (200, 200)\n",
      "ow,oh: 200 200\n",
      "[[   0.  169.  170. ...,  128.  168.    0.]\n",
      " [ 167.  169.  170. ...,  129.  168.  103.]\n",
      " [ 165.  167.  167. ...,  127.  103.   20.]\n",
      " ..., \n",
      " [  31.   32.   36. ...,   41.   62.   42.]\n",
      " [  26.   27.   35. ...,   62.   71.   66.]\n",
      " [   0.   24.   24. ...,   42.   71.    0.]]\n"
     ]
    }
   ],
   "source": [
    "h, w = test_img.shape\n",
    "print('h, w:',test_img.shape)\n",
    "padding_size = 1\n",
    "kh = 3\n",
    "kw = 3\n",
    "ow = w + 2 * padding_size + 1 - kw\n",
    "oh = h + 2 * padding_size + 1 - kh\n",
    "print('ow,oh:',ow,oh)\n",
    "output_img = np.zeros((oh, ow))\n",
    "for i in range(oh):# for column\n",
    "    for j in range(ow):# for row\n",
    "        output_img[i][j] = np.median(padding_img[i:i + kh, j:j + kw])\n",
    "print(output_img)"
   ]
  },
  {
   "cell_type": "code",
   "execution_count": 42,
   "metadata": {
    "collapsed": true
   },
   "outputs": [],
   "source": [
    "cv2.imshow('output_img', output_img)\n",
    "key = cv2.waitKey()\n",
    "if key == 27:\n",
    "    cv2.destroyAllWindows()"
   ]
  },
  {
   "cell_type": "code",
   "execution_count": 58,
   "metadata": {},
   "outputs": [
    {
     "name": "stdout",
     "output_type": "stream",
     "text": [
      "3\n"
     ]
    }
   ],
   "source": [
    "img = cv2.imread('test001.jpg')\n",
    "print(len(img.shape))"
   ]
  },
  {
   "cell_type": "code",
   "execution_count": 64,
   "metadata": {},
   "outputs": [
    {
     "data": {
      "text/plain": [
       "(2, 4)"
      ]
     },
     "execution_count": 64,
     "metadata": {},
     "output_type": "execute_result"
    }
   ],
   "source": [
    "np.arange(8).reshape((2,4)).shape"
   ]
  },
  {
   "cell_type": "markdown",
   "metadata": {},
   "source": [
    "## Coding"
   ]
  },
  {
   "cell_type": "code",
   "execution_count": 49,
   "metadata": {
    "collapsed": true
   },
   "outputs": [],
   "source": [
    "import numpy as np\n",
    "import copy\n",
    "import cv2\n",
    "from matplotlib import pyplot as plt\n",
    "%matplotlib inline\n",
    "\n",
    "def medianBlur(img, kernel, padding_way, padding_size = 1):\n",
    "    h, w = img.shape\n",
    "    kh, kw = kernel.shape\n",
    "    print('h, w:',img.shape)\n",
    "    print('kh, kw:',kernel.shape)\n",
    "    if padding_way == 'REPLICA':\n",
    "        padding_img = np.pad(img, padding_size, 'edge')\n",
    "    elif padding_way == 'COPY':\n",
    "        padding_img = np.pad(img, padding_size, 'constant')\n",
    "    ow = w + 2 * padding_size + 1 - kw\n",
    "    oh = h + 2 * padding_size + 1 - kh\n",
    "    print('ow,oh:',ow,oh)\n",
    "    output_img = np.zeros((oh, ow))\n",
    "    for i in range(oh):# for column\n",
    "        for j in range(ow):# for row\n",
    "            output_img[i][j] = np.median(padding_img[i:i + kh, j:j + kw])\n",
    "    return output_img.astype(\"uint8\")"
   ]
  },
  {
   "cell_type": "code",
   "execution_count": 50,
   "metadata": {
    "collapsed": true
   },
   "outputs": [],
   "source": [
    "img = cv2.imread('lena.jpg',0) \n",
    "cv2.imshow('img', img)\n",
    "key = cv2.waitKey()\n",
    "if key == 27:\n",
    "    cv2.destroyAllWindows()"
   ]
  },
  {
   "cell_type": "code",
   "execution_count": 55,
   "metadata": {},
   "outputs": [
    {
     "name": "stdout",
     "output_type": "stream",
     "text": [
      "h, w: (200, 200)\n",
      "kh, kw: (3, 3)\n",
      "ow,oh: 200 200\n",
      "[[  0 169 170 ..., 128 168   0]\n",
      " [167 169 170 ..., 129 168 103]\n",
      " [165 167 167 ..., 127 103  20]\n",
      " ..., \n",
      " [ 31  32  36 ...,  41  62  42]\n",
      " [ 26  27  35 ...,  62  71  66]\n",
      " [  0  24  24 ...,  42  71   0]]\n"
     ]
    }
   ],
   "source": [
    "kernel = np.arange(9).reshape((3,3))\n",
    "padding_way = 'COPY'\n",
    "output_img = medianBlur(img, kernel, padding_way, padding_size = 1)\n",
    "print(output_img)\n",
    "cv2.imshow('img', img)\n",
    "cv2.imshow('output_img', output_img)\n",
    "key = cv2.waitKey()\n",
    "if key == 27:\n",
    "    cv2.destroyAllWindows()"
   ]
  },
  {
   "cell_type": "markdown",
   "metadata": {},
   "source": [
    "## Other reference"
   ]
  },
  {
   "cell_type": "code",
   "execution_count": 53,
   "metadata": {
    "collapsed": true
   },
   "outputs": [],
   "source": [
    "#one_extend函数实现2D图像的近值扩充,两边只分别扩充一个单元,要对外扩充多个单元，只需反复使用这个函数\n",
    "def extend(img,padding_way):\n",
    "    m,n=img.shape\n",
    "    img_one_extend=np.zeros((m+2,n+2))\n",
    "    img_one_extend[1:m+1,1:n+1]=img\n",
    "    if padding_way==\"ZERO\":\n",
    "        return img_one_extend\n",
    "    elif padding_way==\"REPLICA\":\n",
    "        img_one_extend[0][1:1+n]=img[0]\n",
    "        img_one_extend[m+1][1:1+n]=img[m-1]\n",
    "        img_one_extend[:,0]=img_one_extend[:,1]\n",
    "        img_one_extend[:,n+1]=img_one_extend[:,n]\n",
    "        img_one_extend=img_one_extend.astype('int')\n",
    "        return img_one_extend\n",
    "    else:\n",
    "        print(\"Please input right padding_way\")\n",
    "    \n",
    "#img_kernel函数实现一个2D图像,跟一个kernel*kernle的卷积核卷积的结果\n",
    "def img_kernel(srcimg,kernel,padding_way):\n",
    "    extend_index=int(kernel/2)\n",
    "    img=copy.deepcopy(srcimg)\n",
    "    for k in range(extend_index):\n",
    "        img=extend(srcimg,padding_way)\n",
    "    m,n=img.shape\n",
    "    for i in range(int(kernel/2),m-int(kernel/2)):\n",
    "        for j in range(int(kernel/2),n-int(kernel/2)):\n",
    "            a=[]\n",
    "            #print(img[i,j])\n",
    "            a.append(img[i,j])\n",
    "            a.append(img[i+1,j])\n",
    "            a.append(img[i-1,j])\n",
    "            a.append(img[i,j+1])\n",
    "            a.append(img[i,j-1])\n",
    "            a.append(img[i-1,j-1])\n",
    "            a.append(img[i+1,j+1])\n",
    "            a.append(img[i-1,j+1])\n",
    "            a.append(img[i+1,j-1])\n",
    "            a.sort()\n",
    "            img[i,j]=a[int(len(a)/2)]    \n",
    "    result=img[int(kernel/2):m-int(kernel/2),int(kernel/2):n-int(kernel/2)]                     \n",
    "    return  result.astype(\"uint8\")"
   ]
  },
  {
   "cell_type": "code",
   "execution_count": 54,
   "metadata": {},
   "outputs": [],
   "source": [
    "src=cv2.imread(\"lena.jpg\",0)\n",
    "a=img_kernel(src,5,\"REPLICA\")\n",
    "cv2.imshow(\"result\",a)\n",
    "k=cv2.waitKey()\n",
    "if k==27:\n",
    "    cv2.destroyAllWindows()"
   ]
  },
  {
   "cell_type": "code",
   "execution_count": null,
   "metadata": {
    "collapsed": true
   },
   "outputs": [],
   "source": []
  }
 ],
 "metadata": {
  "kernelspec": {
   "display_name": "Python 3",
   "language": "python",
   "name": "python3"
  },
  "language_info": {
   "codemirror_mode": {
    "name": "ipython",
    "version": 3
   },
   "file_extension": ".py",
   "mimetype": "text/x-python",
   "name": "python",
   "nbconvert_exporter": "python",
   "pygments_lexer": "ipython3",
   "version": "3.6.1"
  }
 },
 "nbformat": 4,
 "nbformat_minor": 2
}
